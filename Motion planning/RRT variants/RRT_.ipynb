{
 "cells": [
  {
   "cell_type": "code",
   "execution_count": 1,
   "metadata": {},
   "outputs": [],
   "source": [
    "import numpy, math, random\n",
    "import matplotlib.pyplot as plt"
   ]
  },
  {
   "cell_type": "code",
   "execution_count": 7,
   "metadata": {},
   "outputs": [
    {
     "ename": "SyntaxError",
     "evalue": "invalid syntax (<ipython-input-7-300d8da66eff>, line 4)",
     "output_type": "error",
     "traceback": [
      "\u001b[0;36m  File \u001b[0;32m\"<ipython-input-7-300d8da66eff>\"\u001b[0;36m, line \u001b[0;32m4\u001b[0m\n\u001b[0;31m    x             =\u001b[0m\n\u001b[0m                   ^\u001b[0m\n\u001b[0;31mSyntaxError\u001b[0m\u001b[0;31m:\u001b[0m invalid syntax\n"
     ]
    }
   ],
   "source": [
    "\n",
    "class RRT(object):\n",
    "    \n",
    "    x             =\n",
    "    y             =\n",
    "    q_start       = \n",
    "    q_random      =\n",
    "    q_goal        =\n",
    "    q_near        =\n",
    "    obstacle_list =\n",
    "    step_size     =\n",
    "    max_nodes     =\n",
    "    circle_radius =\n",
    "    node_list     =\n",
    "    near_nodes_list =\n",
    "    q_edge          =\n",
    "\n",
    "    \n",
    "    def __init__(self, x, y, q_start, q_random, q_goal, q_near, node_list,\n",
    "                     obstacles_list, step_size, max_nodes,\n",
    "                     circle_radius):\n",
    "        self.x               =\n",
    "        self.y               =\n",
    "        self.q_start         =\n",
    "        self.q_random        =\n",
    "        self.q_goal          =\n",
    "        self.q_near          =\n",
    "        self.obstacles_list  = [(5, 5, 1),\n",
    "                                (3, 6, 2),\n",
    "                                (3, 8, 2),\n",
    "                                (3, 10, 2),\n",
    "                                (7, 5, 2),\n",
    "                                (9, 5, 2),\n",
    "                                (8, 10, 1),\n",
    "                                (6, 12, 1)]\n",
    "        self.step_size       =\n",
    "        self.max_nodes       =\n",
    "        self.circle_radius   =\n",
    "        self.node_list       =\n",
    "        self.near_nodes_list =\n",
    "        self.q_edge          =\n",
    "\n",
    "\n",
    "\n",
    "    def Start_Sampling(self, q_start, step_size, search_untill_all_nodes_are_covered=True):\n",
    "        while q_start == node_list[0]:\n",
    "            for i in range(len(max_nodes)):\n",
    "                q_random = self.get_random_node(self.node_list[i])\n",
    "\n",
    "                q_near   = self.get_nearest_node(self.node_list[i], q_random, step_size)\n",
    "\n",
    "                q_new    = self.steer(self.node_list[q_near], step_size)\n",
    "\n",
    "\n",
    "            if self_collision(q_new, self.obstacles_list):\n",
    "                q_near = self.find_near_nodes(q_near)\n",
    "\n",
    "                q_new = self.choose_parent(q_new, q_near)\n",
    "\n",
    "\n",
    "            if q_new:\n",
    "                self.node_list.append(q_new)\n",
    "\n",
    "                self.rewire(q_new, self.near_nodes_list[q_near])\n",
    "\n",
    "            if not search_untill_all_nodes_are_covered:\n",
    "                q_final = q_new\n",
    "\n",
    "            print('the final node is', q_final)\n",
    "\n",
    "        \n",
    "    def chooseParentnode(self, q_near, q_new):\n",
    "        path_costs = []\n",
    "        \n",
    "        for i in q_near:\n",
    "            nearest_node = self.node_list[self.near_nodes_list[q_near]]\n",
    "\n",
    "            connection = self.steer(nearest_node, q_new)\n",
    "\n",
    "        if connection and self.check_collision(nearest_node, self.obstacles_list):\n",
    "            path_costs.append(self.calc_path_cost(nearest_node, q_new))\n",
    "\n",
    "        else:\n",
    "            path.costs.append(float('inf'))\n",
    "            minimum_cost = min(path_costs)\n",
    "\n",
    "        if minimum_cost != float('inf'):\n",
    "            print(\"found the feasible path\")\n",
    "\n",
    "            minimum_cost_path = q_near[path_costs.index(minimum_cost)]\n",
    "\n",
    "            q_new = self.steer(self.node_list[minimum_cost_path], q_new)\n",
    "\n",
    "            q_new.parent = self.node_list[minimum_cost_path]\n",
    "\n",
    "            q_new.cost = minimum_cost\n",
    "\n",
    "            return q_new, nearest_node\n",
    "\n",
    "        else:\n",
    "            print(\"No hope for the path\")\n",
    "\n",
    "\n",
    "    def calculate_distance(q_start, q_goal):\n",
    "        return sqrt((q_start[0]-q_goal[0])*(q_start[0]-q_goal[0])+(q_start[1]-q_goal[1])*(q_start[1]-q_goal[1]))\n",
    "\n",
    "    def search_for_the_goal_nodes(self, q_near, node_list, path_cost, connection2):\n",
    "        \n",
    "        n = node_list[i]\n",
    "\n",
    "        distance_list = [self.calculate_distance(n.x, n.y)]\n",
    "\n",
    "        safe_distance_list = []\n",
    "        for i in distance_list:\n",
    "            if i<= self.step_size:\n",
    "                print(\"the path is safe as no obstacle is there in the vicinity\",i)\n",
    "\n",
    "            safe_distance_list.append(i)\n",
    "            connection2 = self.steer(self.node_list[self.nearest_node_list[q_near[i]]])\n",
    "        return connection2, q_near\n",
    "        \n",
    "        \n",
    "    def calc_new_path_cost(self, q_new, nearest_node, new_cost):\n",
    "        new_cost = sqrt((q_new[0]-nearest_node[0])*(q_new[0]-nearest_node[0])+(q_new[1]-nearest_node[1])*(q_new[1]-nearest_node[1]))\n",
    "\n",
    "        return new_cost\n",
    "\n",
    "\n",
    "    def rewire(self, q_new, near_nodes_list):\n",
    "        for i in near_nodes_list:\n",
    "            nearest_node = self.node_list[self.nearest_node_list[i]]\n",
    "\n",
    "            q_edge = self.steer(q_new, self.nearest_node[q_near[i]])\n",
    "\n",
    "        if not q_edge:\n",
    "            continue\n",
    "\n",
    "        q_edge.cost = self.calc_new_path_cost(q_new, nearest_node)\n",
    "        no_collision = self.check_collision(q_edge, self.obstacles_list)\n",
    "        improved_cost = nearest_node.cost > q_edge.cost\n",
    "\n",
    "        if no_collision & improved_cost:\n",
    "            nearest_node = q_edge\n",
    "            nearest_node.parent = q_new\n"
   ]
  },
  {
   "cell_type": "code",
   "execution_count": 8,
   "metadata": {},
   "outputs": [
    {
     "ename": "NameError",
     "evalue": "name 'RRT' is not defined",
     "output_type": "error",
     "traceback": [
      "\u001b[0;31m---------------------------------------------------------------------------\u001b[0m",
      "\u001b[0;31mNameError\u001b[0m                                 Traceback (most recent call last)",
      "\u001b[0;32m<ipython-input-8-0f002e6a9ee5>\u001b[0m in \u001b[0;36m<module>\u001b[0;34m\u001b[0m\n\u001b[0;32m----> 1\u001b[0;31m \u001b[0mNode\u001b[0m \u001b[0;34m=\u001b[0m \u001b[0mRRT\u001b[0m\u001b[0;34m(\u001b[0m\u001b[0;34m)\u001b[0m\u001b[0;34m\u001b[0m\u001b[0;34m\u001b[0m\u001b[0m\n\u001b[0m",
      "\u001b[0;31mNameError\u001b[0m: name 'RRT' is not defined"
     ]
    }
   ],
   "source": [
    "Node = RRT()"
   ]
  },
  {
   "cell_type": "code",
   "execution_count": null,
   "metadata": {},
   "outputs": [],
   "source": [
    "Node.Start_Sampling()"
   ]
  },
  {
   "cell_type": "code",
   "execution_count": null,
   "metadata": {},
   "outputs": [],
   "source": [
    "Node.chooseParentnode()"
   ]
  },
  {
   "cell_type": "code",
   "execution_count": null,
   "metadata": {},
   "outputs": [],
   "source": [
    "Node.calculate_distance()"
   ]
  },
  {
   "cell_type": "code",
   "execution_count": null,
   "metadata": {},
   "outputs": [],
   "source": [
    "Node.search_for_the_goal_nodes()"
   ]
  },
  {
   "cell_type": "code",
   "execution_count": null,
   "metadata": {},
   "outputs": [],
   "source": [
    "Node.calc_new_path_cost()"
   ]
  },
  {
   "cell_type": "code",
   "execution_count": null,
   "metadata": {},
   "outputs": [],
   "source": [
    "Node.rewire()"
   ]
  }
 ],
 "metadata": {
  "kernelspec": {
   "display_name": "Python 2",
   "language": "python",
   "name": "python2"
  },
  "language_info": {
   "codemirror_mode": {
    "name": "ipython",
    "version": 3
   },
   "file_extension": ".py",
   "mimetype": "text/x-python",
   "name": "python",
   "nbconvert_exporter": "python",
   "pygments_lexer": "ipython3",
   "version": "3.7.5"
  }
 },
 "nbformat": 4,
 "nbformat_minor": 2
}
